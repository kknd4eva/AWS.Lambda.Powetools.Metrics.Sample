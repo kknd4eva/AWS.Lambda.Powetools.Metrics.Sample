{
  "nbformat": 4,
  "nbformat_minor": 0,
  "metadata": {
    "colab": {
      "provenance": [],
      "toc_visible": true,
      "authorship_tag": "ABX9TyOGZpM/hwlxPx13jWzYvvAn",
      "include_colab_link": true
    },
    "kernelspec": {
      "name": "python3",
      "display_name": "Python 3"
    },
    "language_info": {
      "name": "python"
    }
  },
  "cells": [
    {
      "cell_type": "markdown",
      "metadata": {
        "id": "view-in-github",
        "colab_type": "text"
      },
      "source": [
        "<a href=\"https://colab.research.google.com/github/kknd4eva/AWS.Lambda.Powetools.Metrics.Sample/blob/master/my_first_neural_net.ipynb\" target=\"_parent\"><img src=\"https://colab.research.google.com/assets/colab-badge.svg\" alt=\"Open In Colab\"/></a>"
      ]
    },
    {
      "cell_type": "markdown",
      "source": [
        "# **A single neuron neural net example**\n",
        "\n",
        "**Data set original source:** https://www.kaggle.com/datasets/cchen002/pass-or-not-students-exam-score-data/data\n",
        "\n",
        "\n",
        "\n",
        "---\n",
        "\n"
      ],
      "metadata": {
        "id": "LiV-fpXE0cFJ"
      }
    },
    {
      "cell_type": "code",
      "source": [
        "# 1) add any libraries we need that aren't already installed\n",
        "!pip install keras-visualizer"
      ],
      "metadata": {
        "colab": {
          "base_uri": "https://localhost:8080/"
        },
        "id": "4_9CmL06Efe5",
        "outputId": "e5de5b80-0ccf-48b1-9324-fe0aafacac58"
      },
      "execution_count": 7,
      "outputs": [
        {
          "output_type": "stream",
          "name": "stdout",
          "text": [
            "Collecting keras-visualizer\n",
            "  Downloading keras_visualizer-3.1.2-py3-none-any.whl (6.9 kB)\n",
            "Requirement already satisfied: graphviz in /usr/local/lib/python3.10/dist-packages (from keras-visualizer) (0.20.3)\n",
            "Installing collected packages: keras-visualizer\n",
            "Successfully installed keras-visualizer-3.1.2\n"
          ]
        }
      ]
    },
    {
      "cell_type": "markdown",
      "source": [
        "# **Create our model**"
      ],
      "metadata": {
        "id": "yUmiZEbGSFnh"
      }
    },
    {
      "cell_type": "code",
      "source": [
        "# 2) Create and compile our model as well as set up our training and test data.\n",
        "\n",
        "import numpy as np\n",
        "import pandas as pd\n",
        "from sklearn.model_selection import train_test_split  # For splitting the data\n",
        "from tensorflow.keras.models import Sequential\n",
        "from tensorflow.keras.layers import Dense\n",
        "from tensorflow.keras.optimizers import Adam\n",
        "\n",
        "# Load the data\n",
        "df = pd.read_csv('exam_scores.csv')\n",
        "X = df[['Exam Score1', 'Exam Score2']].values  # Features\n",
        "y = df['Pass'].values  # Labels\n",
        "\n",
        "# Split the data into training and test sets\n",
        "X_train, X_test, y_train, y_test = train_test_split(X, y, test_size=0.3, random_state=42)\n",
        "\n",
        "# Save the training and test sets to CSV files\n",
        "train_data = pd.DataFrame(X_train, columns=['Exam Score1', 'Exam Score2'])\n",
        "train_data['Pass'] = y_train\n",
        "train_data.to_csv('train_data.csv', index=False)\n",
        "\n",
        "test_data = pd.DataFrame(X_test, columns=['Exam Score1', 'Exam Score2'])\n",
        "test_data['Pass'] = y_test\n",
        "test_data.to_csv('test_data.csv', index=False)\n",
        "\n",
        "# Define the model\n",
        "model = Sequential([\n",
        "    Dense(units=1, input_shape=(2,), activation='sigmoid')\n",
        "])\n",
        "\n",
        "# Compile the model\n",
        "model.compile(optimizer=Adam(learning_rate=0.01), loss='binary_crossentropy', metrics=['accuracy'])\n"
      ],
      "metadata": {
        "id": "cF1eobsVSSEg"
      },
      "execution_count": 5,
      "outputs": []
    },
    {
      "cell_type": "markdown",
      "source": [
        "# **Visualise our model**"
      ],
      "metadata": {
        "id": "Ad0yS_E6ST19"
      }
    },
    {
      "cell_type": "code",
      "source": [
        "# let's take a look at our neural net visually\n",
        "from keras_visualizer import visualizer\n",
        "visualizer(model, file_name='graph', file_format=None, view=True, settings=None)\n",
        "\n"
      ],
      "metadata": {
        "id": "zISyQ1-lCGN_"
      },
      "execution_count": 8,
      "outputs": []
    },
    {
      "cell_type": "markdown",
      "source": [
        "# **Train our model**"
      ],
      "metadata": {
        "id": "mYZ07B5vSXvx"
      }
    },
    {
      "cell_type": "code",
      "source": [
        "# Train the model with the training set\n",
        "model.fit(X_train, y_train, epochs=1000, verbose=0)\n",
        "\n",
        "# Load the test set from the saved CSV file for a fair evaluation\n",
        "test_set = pd.read_csv('test_data.csv')\n",
        "X_test_loaded = test_set[['Exam Score1', 'Exam Score2']].values\n",
        "y_test_loaded = test_set['Pass'].values\n",
        "\n",
        "# Evaluate the model on the loaded test set\n",
        "loss, accuracy = model.evaluate(X_test_loaded, y_test_loaded)\n",
        "print(f\"Test Loss: {loss}, Test Accuracy: {accuracy}\")"
      ],
      "metadata": {
        "id": "r48BhUPXRXGH"
      },
      "execution_count": null,
      "outputs": []
    },
    {
      "cell_type": "markdown",
      "source": [
        "# **Manual prediction**"
      ],
      "metadata": {
        "id": "_5RY_szJSbM1"
      }
    },
    {
      "cell_type": "code",
      "source": [
        "# Prediction function to predict the outcome based on exam scores\n",
        "def make_prediction(new_data):\n",
        "    probabilities = model.predict(new_data)\n",
        "    predictions = (probabilities > 0.5).astype(int)\n",
        "    return predictions, probabilities\n",
        "\n",
        "# Example usage with new exam scores\n",
        "new_samples = np.array([\n",
        "    [74.71, 61.49],  # Example scores\n",
        "    [79.42, 67.92],   # Example scores\n",
        "    [62.75, 97.53]\n",
        "])\n",
        "\n",
        "predictions, confidences = make_prediction(new_samples)\n",
        "\n",
        "for i, new_sample in enumerate(new_samples):\n",
        "    result = 'Pass' if predictions[i] == 1 else 'Fail'\n",
        "    print(f\"Exam Scores {new_sample} are predicted to {result} with confidence {confidences[i]}\")"
      ],
      "metadata": {
        "id": "Dt2rYMreROfO"
      },
      "execution_count": null,
      "outputs": []
    }
  ]
}